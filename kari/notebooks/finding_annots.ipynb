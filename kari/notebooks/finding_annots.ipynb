{
 "cells": [
  {
   "cell_type": "code",
   "execution_count": 1,
   "id": "8319c316",
   "metadata": {},
   "outputs": [],
   "source": [
    "import pandas as pd\n",
    "from sequence import *\n",
    "import regex as re\n",
    "import numpy as np\n",
    "import pickle\n",
    "\n",
    "pd.options.display.max_seq_items = 2000\n"
   ]
  },
  {
   "cell_type": "markdown",
   "id": "4acd2907",
   "metadata": {},
   "source": [
    "# Load in data sets "
   ]
  },
  {
   "cell_type": "code",
   "execution_count": 2,
   "id": "08d3e64e",
   "metadata": {},
   "outputs": [],
   "source": [
    "class_1 = readFastaFile('../datasets/kari_ec_1_1_1_86_ec_1_1_1_382_ec_1_1_1_383_swissprot/subsets/classI_kari/kari_ec_1_1_1_86_ec_1_1_1_382_ec_1_1_1_383_swissprot_classI_kari.fasta')\n",
    "class_2 = readFastaFile('../datasets/kari_ec_1_1_1_86_ec_1_1_1_382_ec_1_1_1_383_swissprot/subsets/classII_kari/kari_ec_1_1_1_86_ec_1_1_1_382_ec_1_1_1_383_swissprot_classII_kari.fasta')\n",
    "\n",
    "annots = pd.read_csv('../datasets/kari_ec_1_1_1_86_ec_1_1_1_382_ec_1_1_1_383_swissprot/csv/custom/kari_ec_1_1_1_86_ec_1_1_1_382_ec_1_1_1_383_swissprot_annotated.csv')"
   ]
  },
  {
   "cell_type": "markdown",
   "id": "a61f85e6",
   "metadata": {},
   "source": [
    "# Important data columns"
   ]
  },
  {
   "cell_type": "code",
   "execution_count": 112,
   "id": "53821038",
   "metadata": {
    "scrolled": false
   },
   "outputs": [
    {
     "data": {
      "text/html": [
       "<div>\n",
       "<style scoped>\n",
       "    .dataframe tbody tr th:only-of-type {\n",
       "        vertical-align: middle;\n",
       "    }\n",
       "\n",
       "    .dataframe tbody tr th {\n",
       "        vertical-align: top;\n",
       "    }\n",
       "\n",
       "    .dataframe thead th {\n",
       "        text-align: right;\n",
       "    }\n",
       "</style>\n",
       "<table border=\"1\" class=\"dataframe\">\n",
       "  <thead>\n",
       "    <tr style=\"text-align: right;\">\n",
       "      <th></th>\n",
       "      <th>accession</th>\n",
       "      <th>ft_binding</th>\n",
       "      <th>ft_domain</th>\n",
       "    </tr>\n",
       "  </thead>\n",
       "  <tbody>\n",
       "    <tr>\n",
       "      <th>0</th>\n",
       "      <td>Q05758</td>\n",
       "      <td>BINDING 123..130; /ligand=\"NADP(+)\"; /ligand_i...</td>\n",
       "      <td>DOMAIN 102..300; /note=\"KARI N-terminal Rossma...</td>\n",
       "    </tr>\n",
       "    <tr>\n",
       "      <th>1</th>\n",
       "      <td>Q65XK0</td>\n",
       "      <td>BINDING 111..118; /ligand=\"NADP(+)\"; /ligand_i...</td>\n",
       "      <td>DOMAIN 90..288; /note=\"KARI N-terminal Rossman...</td>\n",
       "    </tr>\n",
       "    <tr>\n",
       "      <th>2</th>\n",
       "      <td>P05793</td>\n",
       "      <td>BINDING 45..48; /ligand=\"NADP(+)\"; /ligand_id=...</td>\n",
       "      <td>DOMAIN 15..208; /note=\"KARI N-terminal Rossman...</td>\n",
       "    </tr>\n",
       "    <tr>\n",
       "      <th>3</th>\n",
       "      <td>P06168</td>\n",
       "      <td>BINDING 84..93; /ligand=\"NADP(+)\"; /ligand_id=...</td>\n",
       "      <td>DOMAIN 57..246; /note=\"KARI N-terminal Rossman...</td>\n",
       "    </tr>\n",
       "    <tr>\n",
       "      <th>4</th>\n",
       "      <td>P05989</td>\n",
       "      <td>BINDING 45..48; /ligand=\"NADP(+)\"; /ligand_id=...</td>\n",
       "      <td>DOMAIN 15..208; /note=\"KARI N-terminal Rossman...</td>\n",
       "    </tr>\n",
       "    <tr>\n",
       "      <th>...</th>\n",
       "      <td>...</td>\n",
       "      <td>...</td>\n",
       "      <td>...</td>\n",
       "    </tr>\n",
       "    <tr>\n",
       "      <th>645</th>\n",
       "      <td>Q9AQ97</td>\n",
       "      <td>BINDING 11; /ligand=\"NADP(+)\"; /ligand_id=\"ChE...</td>\n",
       "      <td>DOMAIN &lt;1..141; /note=\"KARI N-terminal Rossman...</td>\n",
       "    </tr>\n",
       "    <tr>\n",
       "      <th>646</th>\n",
       "      <td>Q9K8E7</td>\n",
       "      <td>BINDING 25..28; /ligand=\"NADP(+)\"; /ligand_id=...</td>\n",
       "      <td>DOMAIN 2..181; /note=\"KARI N-terminal Rossmann...</td>\n",
       "    </tr>\n",
       "    <tr>\n",
       "      <th>647</th>\n",
       "      <td>Q9RQ47</td>\n",
       "      <td>BINDING 45..48; /ligand=\"NADP(+)\"; /ligand_id=...</td>\n",
       "      <td>DOMAIN 15..208; /note=\"KARI N-terminal Rossman...</td>\n",
       "    </tr>\n",
       "    <tr>\n",
       "      <th>648</th>\n",
       "      <td>Q9RQ51</td>\n",
       "      <td>BINDING 44..47; /ligand=\"NADP(+)\"; /ligand_id=...</td>\n",
       "      <td>DOMAIN 16..207; /note=\"KARI N-terminal Rossman...</td>\n",
       "    </tr>\n",
       "    <tr>\n",
       "      <th>649</th>\n",
       "      <td>Q9ZMA9</td>\n",
       "      <td>BINDING 26..29; /ligand=\"NADP(+)\"; /ligand_id=...</td>\n",
       "      <td>DOMAIN 3..184; /note=\"KARI N-terminal Rossmann...</td>\n",
       "    </tr>\n",
       "  </tbody>\n",
       "</table>\n",
       "<p>650 rows × 3 columns</p>\n",
       "</div>"
      ],
      "text/plain": [
       "    accession                                         ft_binding  \\\n",
       "0      Q05758  BINDING 123..130; /ligand=\"NADP(+)\"; /ligand_i...   \n",
       "1      Q65XK0  BINDING 111..118; /ligand=\"NADP(+)\"; /ligand_i...   \n",
       "2      P05793  BINDING 45..48; /ligand=\"NADP(+)\"; /ligand_id=...   \n",
       "3      P06168  BINDING 84..93; /ligand=\"NADP(+)\"; /ligand_id=...   \n",
       "4      P05989  BINDING 45..48; /ligand=\"NADP(+)\"; /ligand_id=...   \n",
       "..        ...                                                ...   \n",
       "645    Q9AQ97  BINDING 11; /ligand=\"NADP(+)\"; /ligand_id=\"ChE...   \n",
       "646    Q9K8E7  BINDING 25..28; /ligand=\"NADP(+)\"; /ligand_id=...   \n",
       "647    Q9RQ47  BINDING 45..48; /ligand=\"NADP(+)\"; /ligand_id=...   \n",
       "648    Q9RQ51  BINDING 44..47; /ligand=\"NADP(+)\"; /ligand_id=...   \n",
       "649    Q9ZMA9  BINDING 26..29; /ligand=\"NADP(+)\"; /ligand_id=...   \n",
       "\n",
       "                                             ft_domain  \n",
       "0    DOMAIN 102..300; /note=\"KARI N-terminal Rossma...  \n",
       "1    DOMAIN 90..288; /note=\"KARI N-terminal Rossman...  \n",
       "2    DOMAIN 15..208; /note=\"KARI N-terminal Rossman...  \n",
       "3    DOMAIN 57..246; /note=\"KARI N-terminal Rossman...  \n",
       "4    DOMAIN 15..208; /note=\"KARI N-terminal Rossman...  \n",
       "..                                                 ...  \n",
       "645  DOMAIN <1..141; /note=\"KARI N-terminal Rossman...  \n",
       "646  DOMAIN 2..181; /note=\"KARI N-terminal Rossmann...  \n",
       "647  DOMAIN 15..208; /note=\"KARI N-terminal Rossman...  \n",
       "648  DOMAIN 16..207; /note=\"KARI N-terminal Rossman...  \n",
       "649  DOMAIN 3..184; /note=\"KARI N-terminal Rossmann...  \n",
       "\n",
       "[650 rows x 3 columns]"
      ]
     },
     "execution_count": 112,
     "metadata": {},
     "output_type": "execute_result"
    }
   ],
   "source": [
    "annots.loc[:, annots.columns.isin(['accession','ft_binding', 'ft_domain'])]"
   ]
  },
  {
   "cell_type": "markdown",
   "id": "76cd3b57",
   "metadata": {},
   "source": [
    "# Testing regular expressions to extract info"
   ]
  },
  {
   "cell_type": "code",
   "execution_count": 114,
   "id": "5c3c5c85",
   "metadata": {},
   "outputs": [
    {
     "data": {
      "text/html": [
       "<div>\n",
       "<style scoped>\n",
       "    .dataframe tbody tr th:only-of-type {\n",
       "        vertical-align: middle;\n",
       "    }\n",
       "\n",
       "    .dataframe tbody tr th {\n",
       "        vertical-align: top;\n",
       "    }\n",
       "\n",
       "    .dataframe thead th {\n",
       "        text-align: right;\n",
       "    }\n",
       "</style>\n",
       "<table border=\"1\" class=\"dataframe\">\n",
       "  <thead>\n",
       "    <tr style=\"text-align: right;\">\n",
       "      <th></th>\n",
       "      <th>accession</th>\n",
       "      <th>id</th>\n",
       "      <th>gene_names</th>\n",
       "      <th>gene_primary</th>\n",
       "      <th>gene_synonym</th>\n",
       "      <th>gene_oln</th>\n",
       "      <th>gene_orf</th>\n",
       "      <th>organism_name</th>\n",
       "      <th>organism_id</th>\n",
       "      <th>protein_name</th>\n",
       "      <th>...</th>\n",
       "      <th>BRENDA_TN_Hydroxypyruvate_UNITS</th>\n",
       "      <th>BRENDA_TN_Hydroxypyruvate_REFS</th>\n",
       "      <th>BRENDA_TN_Hydroxypyruvate_COMMENT</th>\n",
       "      <th>BRENDA_SY_COMMENT</th>\n",
       "      <th>Non_AA_Character</th>\n",
       "      <th>AA_Character</th>\n",
       "      <th>UniProt_DB</th>\n",
       "      <th>Length_2</th>\n",
       "      <th>Cross_reference_InterPro_2</th>\n",
       "      <th>KARI_Class</th>\n",
       "    </tr>\n",
       "  </thead>\n",
       "  <tbody>\n",
       "    <tr>\n",
       "      <th>0</th>\n",
       "      <td>Q05758</td>\n",
       "      <td>ILV5_ARATH</td>\n",
       "      <td>At3g58610 F14P22.200</td>\n",
       "      <td>NaN</td>\n",
       "      <td>NaN</td>\n",
       "      <td>At3g58610</td>\n",
       "      <td>F14P22.200</td>\n",
       "      <td>Arabidopsis thaliana (Mouse-ear cress)</td>\n",
       "      <td>3702</td>\n",
       "      <td>Ketol-acid reductoisomerase, chloroplastic (EC...</td>\n",
       "      <td>...</td>\n",
       "      <td>NaN</td>\n",
       "      <td>NaN</td>\n",
       "      <td>NaN</td>\n",
       "      <td>NaN</td>\n",
       "      <td>False</td>\n",
       "      <td>True</td>\n",
       "      <td>NaN</td>\n",
       "      <td>591</td>\n",
       "      <td>IPR008927;IPR013328;IPR013023;IPR000506;IPR013...</td>\n",
       "      <td>Class_2</td>\n",
       "    </tr>\n",
       "  </tbody>\n",
       "</table>\n",
       "<p>1 rows × 606 columns</p>\n",
       "</div>"
      ],
      "text/plain": [
       "  accession          id            gene_names gene_primary gene_synonym  \\\n",
       "0    Q05758  ILV5_ARATH  At3g58610 F14P22.200          NaN          NaN   \n",
       "\n",
       "    gene_oln    gene_orf                           organism_name  organism_id  \\\n",
       "0  At3g58610  F14P22.200  Arabidopsis thaliana (Mouse-ear cress)         3702   \n",
       "\n",
       "                                        protein_name  ...  \\\n",
       "0  Ketol-acid reductoisomerase, chloroplastic (EC...  ...   \n",
       "\n",
       "  BRENDA_TN_Hydroxypyruvate_UNITS BRENDA_TN_Hydroxypyruvate_REFS  \\\n",
       "0                             NaN                            NaN   \n",
       "\n",
       "  BRENDA_TN_Hydroxypyruvate_COMMENT  BRENDA_SY_COMMENT Non_AA_Character  \\\n",
       "0                               NaN                NaN            False   \n",
       "\n",
       "   AA_Character UniProt_DB  Length_2  \\\n",
       "0          True        NaN       591   \n",
       "\n",
       "                          Cross_reference_InterPro_2  KARI_Class  \n",
       "0  IPR008927;IPR013328;IPR013023;IPR000506;IPR013...     Class_2  \n",
       "\n",
       "[1 rows x 606 columns]"
      ]
     },
     "execution_count": 114,
     "metadata": {},
     "output_type": "execute_result"
    }
   ],
   "source": [
    "domain = 'DOMAIN (.*?); */note=\\\"(.*?)\";'\n",
    "metal = 'BINDING (.*?); /ligand=\\\"(.*?)\";'\n",
    "\n",
    "seq = annots.iloc[:1, :]\n",
    "seq"
   ]
  },
  {
   "cell_type": "code",
   "execution_count": 9,
   "id": "9612b392",
   "metadata": {
    "scrolled": true
   },
   "outputs": [
    {
     "name": "stdout",
     "output_type": "stream",
     "text": [
      "DOMAIN 102..300; /note=\"KARI N-terminal Rossmann\"; /evidence=\"ECO:0000255|PROSITE-ProRule:PRU01197\"; DOMAIN 301..449; /note=\"KARI C-terminal knotted 1\"; /evidence=\"ECO:0000255|PROSITE-ProRule:PRU01198\"; DOMAIN 450..586; /note=\"KARI C-terminal knotted 2\"; /evidence=\"ECO:0000255|PROSITE-ProRule:PRU01198\"\n"
     ]
    }
   ],
   "source": [
    "for x in seq['ft_domain']:\n",
    "    print(x)"
   ]
  },
  {
   "cell_type": "code",
   "execution_count": 54,
   "id": "6493af8b",
   "metadata": {
    "scrolled": true
   },
   "outputs": [
    {
     "name": "stdout",
     "output_type": "stream",
     "text": [
      "BINDING 123..130; /ligand=\"NADP(+)\"; /ligand_id=\"ChEBI:CHEBI:58349\"; /evidence=\"ECO:0000250\"; BINDING 156..161; /ligand=\"NADP(+)\"; /ligand_id=\"ChEBI:CHEBI:58349\"; /evidence=\"ECO:0000250\"; BINDING 195..199; /ligand=\"NADP(+)\"; /ligand_id=\"ChEBI:CHEBI:58349\"; /evidence=\"ECO:0000250\"; BINDING 309; /ligand=\"Mg(2+)\"; /ligand_id=\"ChEBI:CHEBI:18420\"; /ligand_label=\"1\"; /evidence=\"ECO:0000255|PROSITE-ProRule:PRU01198\"; BINDING 309; /ligand=\"Mg(2+)\"; /ligand_id=\"ChEBI:CHEBI:18420\"; /ligand_label=\"2\"; /evidence=\"ECO:0000255|PROSITE-ProRule:PRU01198\"; BINDING 313; /ligand=\"Mg(2+)\"; /ligand_id=\"ChEBI:CHEBI:18420\"; /ligand_label=\"1\"; /evidence=\"ECO:0000255|PROSITE-ProRule:PRU01198\"; BINDING 486; /ligand=\"Mg(2+)\"; /ligand_id=\"ChEBI:CHEBI:18420\"; /ligand_label=\"2\"; /evidence=\"ECO:0000255|PROSITE-ProRule:PRU01198\"; BINDING 490; /ligand=\"Mg(2+)\"; /ligand_id=\"ChEBI:CHEBI:18420\"; /ligand_label=\"2\"; /evidence=\"ECO:0000255|PROSITE-ProRule:PRU01198\"; BINDING 512; /ligand=\"substrate\"; /evidence=\"ECO:0000255|PROSITE-ProRule:PRU01198\"\n"
     ]
    }
   ],
   "source": [
    "for x in seq['ft_binding']:\n",
    "    print(x)"
   ]
  },
  {
   "cell_type": "code",
   "execution_count": 106,
   "id": "b2cd9e6b",
   "metadata": {},
   "outputs": [],
   "source": [
    "exp = re.findall(domain, str(seq['ft_domain'].values))\n",
    "met = re.findall(metal, str(seq['ft_binding'].values))"
   ]
  },
  {
   "cell_type": "code",
   "execution_count": 111,
   "id": "98f181bc",
   "metadata": {},
   "outputs": [
    {
     "data": {
      "text/plain": [
       "[('123..130', 'NADP(+)'),\n",
       " ('156..161', 'NADP(+)'),\n",
       " ('195..199', 'NADP(+)'),\n",
       " ('309', 'Mg(2+)'),\n",
       " ('309', 'Mg(2+)'),\n",
       " ('313', 'Mg(2+)'),\n",
       " ('486', 'Mg(2+)'),\n",
       " ('490', 'Mg(2+)'),\n",
       " ('512', 'substrate')]"
      ]
     },
     "execution_count": 111,
     "metadata": {},
     "output_type": "execute_result"
    }
   ],
   "source": [
    "met"
   ]
  },
  {
   "cell_type": "code",
   "execution_count": 99,
   "id": "d4de6de9",
   "metadata": {},
   "outputs": [
    {
     "data": {
      "text/plain": [
       "[('102..300', 'KARI N-terminal Rossmann'),\n",
       " ('301..449', 'KARI C-terminal knotted 1'),\n",
       " ('450..586', 'KARI C-terminal knotted 2')]"
      ]
     },
     "execution_count": 99,
     "metadata": {},
     "output_type": "execute_result"
    }
   ],
   "source": [
    "exp"
   ]
  },
  {
   "cell_type": "markdown",
   "id": "18fd0cf8",
   "metadata": {},
   "source": [
    "# Identifying where cofactor residues relative to domains"
   ]
  },
  {
   "cell_type": "code",
   "execution_count": 193,
   "id": "d1aa7c8f",
   "metadata": {},
   "outputs": [],
   "source": [
    "def sort_features(domains: list) -> dict:\n",
    "    \n",
    "    RANGE = 0\n",
    "    ID = 1\n",
    "    domain_info = {}\n",
    "    \n",
    "    for domain in domains: \n",
    "        \n",
    "        if domain[ID] not in domain_info.keys():\n",
    "            \n",
    "            domain_info[domain[ID]] = [domain[RANGE]]\n",
    "        else:\n",
    "           \n",
    "            if domain[RANGE] not in domain_info[domain[ID]]:\n",
    "                \n",
    "                domain_info[domain[ID]].append(domain[RANGE])\n",
    "    \n",
    "    return domain_info"
   ]
  },
  {
   "cell_type": "code",
   "execution_count": 194,
   "id": "65c184f2",
   "metadata": {
    "scrolled": true
   },
   "outputs": [],
   "source": [
    "\n",
    "def summarise_annots(sequences: list):\n",
    "    \"\"\"\n",
    "    Returns a dictionary that has the accession number as key.\n",
    "    The value is a list, the first element contains a dict with\n",
    "    all the domains(C or N). Second element contains all cofactors. \n",
    "    \"\"\"\n",
    "    annotations = {}\n",
    "\n",
    "    for seq in sequences:    \n",
    "\n",
    "        entry = annots.loc[annots.accession == seq.name]\n",
    "\n",
    "        doms = re.findall(domain, str(entry['ft_domain'].values))\n",
    "        met = re.findall(metal, str(entry['ft_binding'].values))\n",
    "        \n",
    "        sorted_doms = sort_features(doms)\n",
    "        sorted_met = sort_features(met)\n",
    "        \n",
    "        info = [sort_features(doms), sort_features(met)]\n",
    "\n",
    "        annotations[seq.name] = info\n",
    "    \n",
    "    \n",
    "    return annotations\n"
   ]
  },
  {
   "cell_type": "code",
   "execution_count": 219,
   "id": "d5b419cf",
   "metadata": {
    "scrolled": true
   },
   "outputs": [],
   "source": [
    "class_1_dict = summarise_annots(class_1)\n",
    "class_2_dict = summarise_annots(class_2)"
   ]
  },
  {
   "cell_type": "code",
   "execution_count": 224,
   "id": "3c692840",
   "metadata": {},
   "outputs": [],
   "source": [
    "outfile_1 = open('class_1_swissprot_annots', 'wb')\n",
    "pickle.dump(class_1_dict, outfile_1)\n",
    "outfile_1.close()\n",
    "\n",
    "outfile_2 = open('class_2_swissprot_annots', 'wb')\n",
    "pickle.dump(class_2_dict, outfile_2)\n",
    "outfile_2.close()"
   ]
  }
 ],
 "metadata": {
  "kernelspec": {
   "display_name": "Python 3 (ipykernel)",
   "language": "python",
   "name": "python3"
  },
  "language_info": {
   "codemirror_mode": {
    "name": "ipython",
    "version": 3
   },
   "file_extension": ".py",
   "mimetype": "text/x-python",
   "name": "python",
   "nbconvert_exporter": "python",
   "pygments_lexer": "ipython3",
   "version": "3.7.13"
  }
 },
 "nbformat": 4,
 "nbformat_minor": 5
}
