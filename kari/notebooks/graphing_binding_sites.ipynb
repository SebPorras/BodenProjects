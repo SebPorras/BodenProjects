{
 "cells": [
  {
   "cell_type": "code",
   "execution_count": 2,
   "id": "f37c8260",
   "metadata": {},
   "outputs": [],
   "source": [
    "import pickle \n",
    "from sequence import * \n",
    "import matplotlib.pyplot as plt\n",
    "import numpy as np\n",
    "import pandas as pd"
   ]
  },
  {
   "cell_type": "code",
   "execution_count": 3,
   "id": "cba73909",
   "metadata": {},
   "outputs": [],
   "source": [
    "class_1_in = open('../notebooks/class_1_swissprot_annots', 'rb')\n",
    "class_1_annots = pickle.load(class_1_in)\n",
    "class_1_in.close()\n",
    "\n",
    "class_2_in = open('../notebooks/class_2_swissprot_annots', 'rb')\n",
    "class_2_annots = pickle.load(class_2_in)\n",
    "class_2_in.close()\n",
    "\n",
    "\n",
    "class_1_seqs = readFastaFile('../datasets/kari_ec_1_1_1_86_ec_1_1_1_382_ec_1_1_1_383_swissprot/subsets/classI_kari/kari_ec_1_1_1_86_ec_1_1_1_382_ec_1_1_1_383_swissprot_classI_kari.fasta')\n",
    "class_2_seqs = readFastaFile('../datasets/kari_ec_1_1_1_86_ec_1_1_1_382_ec_1_1_1_383_swissprot/subsets/classII_kari/kari_ec_1_1_1_86_ec_1_1_1_382_ec_1_1_1_383_swissprot_classII_kari.fasta')\n"
   ]
  },
  {
   "cell_type": "markdown",
   "id": "2751483d",
   "metadata": {},
   "source": [
    "# Plotting metal residues in Class II"
   ]
  },
  {
   "cell_type": "code",
   "execution_count": 4,
   "id": "c742e8e4",
   "metadata": {},
   "outputs": [],
   "source": [
    "\n",
    "def sort_class_2_residues(sequences, annots):\n",
    "    \n",
    "    c1_starts = []\n",
    "    c1_ends = []\n",
    "    \n",
    "    c2_starts = []\n",
    "    c2_ends = []\n",
    "    \n",
    "    mg_c1 = []\n",
    "    mg_c2 = []\n",
    "    substrates = []\n",
    "\n",
    "    for seq in sequences:\n",
    "        \n",
    "        ##################### \n",
    "        # C1 TERMINUS \n",
    "        #####################\n",
    "       \n",
    "        c1_range= annots[seq.name][0]['KARI C-terminal knotted 1'][0].split('..')\n",
    "        \n",
    "        c1_start = int(c1_range[0])\n",
    "        c1_starts.append(c1_start)\n",
    "        \n",
    "        c1_end = int(c1_range[1])\n",
    "        c1_ends.append(c1_end)\n",
    "        \n",
    "        ##################### \n",
    "        # C2 TERMINUS \n",
    "        #####################\n",
    "\n",
    "        c2_range= annots[seq.name][0]['KARI C-terminal knotted 2'][0].split('..')\n",
    "    \n",
    "        c2_start = int(c2_range[0])\n",
    "        c2_starts.append(c2_start)\n",
    "\n",
    "        if c2_range[1][0] == '>': c2_end = int(c2_range[1][1:])\n",
    "        else: c2_end = int(c2_range[1])\n",
    "        c2_ends.append(c2_end)\n",
    "       \n",
    "        #######################\n",
    "        # IDENTIFY METAL RESIDUES\n",
    "        #######################\n",
    "\n",
    "        for res in annots[seq.name][1]['Mg(2+)']:\n",
    "\n",
    "            res = int(res)\n",
    "            \n",
    "            if res >= c1_start and res <= c1_end:\n",
    "                mg_c1.append(res)\n",
    "            \n",
    "            elif res >= c2_start and res <= c2_end:\n",
    "                mg_c2.append(res)\n",
    "        \n",
    "        if 'substrate' in annots[seq.name][1].keys():\n",
    "            substrates.append(int(annots[seq.name][1]['substrate'][0]))\n",
    "\n",
    "    return mg_c1, mg_c2, substrates, c1_starts, c1_ends, c2_starts, c2_ends\n",
    "        \n",
    "        \n",
    "\n",
    "\n",
    "mg_c1, mg_c2, substrates, c1_starts, c1_ends, c2_starts, c2_ends = sort_class_2_residues(class_2_seqs, class_2_annots)\n"
   ]
  },
  {
   "cell_type": "code",
   "execution_count": 24,
   "id": "f8414ea5",
   "metadata": {
    "scrolled": false
   },
   "outputs": [
    {
     "data": {
      "image/png": "[encoded data removed]",
      "text/plain": [
       "<Figure size 432x288 with 1 Axes>"
      ]
     },
     "metadata": {
      "needs_background": "light"
     },
     "output_type": "display_data"
    }
   ],
   "source": [
    "c1s = np.array(mg_c1)\n",
    "c2s = np.array(mg_c2)\n",
    "subs = np.array(substrates)\n",
    "\n",
    "c1s_ranges = [x for x in range(min(c1_starts), max(c1_ends))]\n",
    "c2s_ranges = [x for x in range(min(c2_starts), max(c2_ends))]\n",
    "\n",
    "#ins=np.arange(min(c1s), max(c1s), 10)\n",
    "plt.hist(c1s,label='Metal Res in C1', color='Red', alpha=0.75)\n",
    "plt.hist(c2s, label='Metal Res in C2 ', color='Blue', alpha=0.75)\n",
    "plt.hist(subs,label='Substrate', color='green',  alpha=0.75)\n",
    "\n",
    "#domains\n",
    "#plt.hist(c1s_ranges, bins=np.arange(min(c1s_ranges), max(c1s_ranges), 5), label='C1 range', color='#c700ff', alpha=0.5)\n",
    "#plt.hist(c2s_ranges, bins=np.arange(min(c2s_ranges), max(c2s_ranges), 5),label='C2 range', color='#fffc00', alpha=0.5)\n",
    "\n",
    "plt.legend(loc='upper right')\n",
    "plt.xlabel('Residue index')\n",
    "plt.ylabel('Count')\n",
    "\n",
    "plt.show()\n",
    "\n"
   ]
  },
  {
   "cell_type": "markdown",
   "id": "ebcc3a2e",
   "metadata": {},
   "source": [
    "# Plotting metal residues in Class I"
   ]
  },
  {
   "cell_type": "code",
   "execution_count": 6,
   "id": "bc7e902e",
   "metadata": {
    "scrolled": true
   },
   "outputs": [],
   "source": [
    "\n",
    "def sort_class_1_residues(sequences, annots):\n",
    "\n",
    "    mg_c1 = []\n",
    "    other = []\n",
    "    substrates = []\n",
    "\n",
    "    for seq in sequences:\n",
    "        \n",
    "        ##################### \n",
    "        # C1 TERMINUS \n",
    "        #####################\n",
    "       \n",
    "        c1_range= annots[seq.name][0]['KARI C-terminal knotted'][0].split('..')\n",
    "    \n",
    "        c1_start = int(c1_range[0])\n",
    "        c1_end = int(c1_range[1])\n",
    "\n",
    "       \n",
    "        #######################\n",
    "        # IDENTIFY METAL RESIDUES\n",
    "        #######################\n",
    "    \n",
    "        if 'Mg(2+)' in annots[seq.name][1].keys():\n",
    "            for res in annots[seq.name][1]['Mg(2+)']:\n",
    "\n",
    "                res = int(res)\n",
    "\n",
    "                if res >= c1_start and res <= c1_end:\n",
    "                    mg_c1.append(res)\n",
    "\n",
    "                else:\n",
    "                    other.append(res)\n",
    "        \n",
    "        if 'substrate' in annots[seq.name][1].keys():\n",
    "            substrates.append(int(annots[seq.name][1]['substrate'][0]))\n",
    "\n",
    "    return mg_c1, other, substrates\n",
    "        \n",
    "        \n",
    "\n",
    "\n",
    "CI_c1, other ,CI_substrates = sort_class_1_residues(class_1_seqs, class_1_annots)\n"
   ]
  },
  {
   "cell_type": "code",
   "execution_count": 25,
   "id": "96612d20",
   "metadata": {},
   "outputs": [
    {
     "data": {
      "image/png": "[encoded data removed]",
      "text/plain": [
       "<Figure size 432x288 with 1 Axes>"
      ]
     },
     "metadata": {
      "needs_background": "light"
     },
     "output_type": "display_data"
    }
   ],
   "source": [
    "CI_c1s = np.array(CI_c1)\n",
    "other = np.array(other)\n",
    "CI_subs = np.array(CI_substrates)\n",
    "\n",
    "\n",
    "plt.hist(CI_c1s, label='Metal residues', color='Red', alpha=0.5)\n",
    "plt.hist(CI_subs,label='Substrate', color='Green',  alpha=0.5)\n",
    "plt.legend(loc='upper right')\n",
    "plt.xlabel('Residue index')\n",
    "plt.ylabel('Count')\n",
    "plt.show()\n",
    "\n"
   ]
  },
  {
   "cell_type": "code",
   "execution_count": 33,
   "id": "6f6b7c19",
   "metadata": {},
   "outputs": [
    {
     "name": "stdout",
     "output_type": "stream",
     "text": [
      "55.7450910931174\n",
      "68.04443319838056\n",
      "68.3218487394958\n",
      "57.02268907563023\n"
     ]
    }
   ],
   "source": [
    "\n",
    "\n",
    "##### UNREVIEWED #####\n",
    "\n",
    "unreviewed_c1_bit_scores = []\n",
    "\n",
    "unreviewed_c1 = open('../datasets/kari_ec_1_1_1_86_ec_1_1_1_382_ec_1_1_1_383_unreviewed/subsets/classII_kari/c1_results.txt','r')\n",
    "for line in unreviewed_c1:\n",
    "    if line[0] != \"#\":\n",
    "    \n",
    "        data = line.split()\n",
    "        unreviewed_c1_bit_scores.append(float(data[7]))\n",
    "\n",
    "unreviewed_c1.close()\n",
    "\n",
    "\n",
    "unreviewed_c2_bit_scores = []\n",
    "\n",
    "unreviewed_c2 = open('../datasets/kari_ec_1_1_1_86_ec_1_1_1_382_ec_1_1_1_383_unreviewed/subsets/classII_kari/c2_results.txt','r')\n",
    "for line in unreviewed_c2:\n",
    "    if line[0] != \"#\":\n",
    "    \n",
    "        data = line.split()\n",
    "        unreviewed_c2_bit_scores.append(float(data[7]))\n",
    "\n",
    "unreviewed_c2.close()\n",
    "\n",
    "\n",
    "##### SWISSPROT #####\n",
    "\n",
    "swiss_c1_bit_scores = []\n",
    "\n",
    "swiss_c1 = open('../datasets/kari_ec_1_1_1_86_ec_1_1_1_382_ec_1_1_1_383_swissprot/subsets/classII_kari/class_2_c1.txt','r')\n",
    "for line in swiss_c1:\n",
    "    if line[0] != \"#\":\n",
    "    \n",
    "        data = line.split()\n",
    "        swiss_c1_bit_scores.append(float(data[7]))\n",
    "\n",
    "swiss_c1.close()\n",
    "\n",
    "\n",
    "swiss_c2_bit_scores = []\n",
    "\n",
    "swiss_c2 = open('../datasets/kari_ec_1_1_1_86_ec_1_1_1_382_ec_1_1_1_383_swissprot/subsets/classII_kari/class_2_c2.txt','r')\n",
    "for line in swiss_c2:\n",
    "    if line[0] != \"#\":\n",
    "    \n",
    "        data = line.split()\n",
    "        swiss_c2_bit_scores.append(float(data[7]))\n",
    "\n",
    "swiss_c2.close()\n",
    "\n",
    "\n",
    "print(np.mean(unreviewed_c1_bit_scores))\n",
    "\n",
    "\n",
    "print(np.mean(unreviewed_c2_bit_scores))\n",
    "\n",
    "\n",
    "print(np.mean(swiss_c2_bit_scores))\n",
    "\n",
    "print(np.mean(swiss_c1_bit_scores))"
   ]
  },
  {
   "cell_type": "code",
   "execution_count": 30,
   "id": "3fe83e31",
   "metadata": {
    "scrolled": false
   },
   "outputs": [
    {
     "data": {
      "image/png": "[encoded data removed]",
      "text/plain": [
       "<Figure size 720x504 with 1 Axes>"
      ]
     },
     "metadata": {
      "needs_background": "light"
     },
     "output_type": "display_data"
    }
   ],
   "source": [
    "data = [unreviewed_c1_bit_scores, unreviewed_c2_bit_scores, swiss_c1_bit_scores, swiss_c2_bit_scores]\n",
    "\n",
    "fig = plt.figure(figsize =(10, 7))\n",
    " \n",
    "# Creating axes instance\n",
    "ax = fig.add_axes([0, 0, 1, 1])\n",
    " \n",
    "# Creating plot\n",
    "bp = ax.boxplot(data, labels=['unreviewed_c1', 'unreviewed_c2', 'swiss_c1','swiss_c2'])\n",
    "plt.xticks(fontsize=14)\n",
    "plt.ylim(top=200)\n",
    "# show plot\n",
    "plt.ylabel('Bit score', size=20)\n",
    "plt.title('Scores using HMM Profile of Class I C domain', size=20)\n",
    "plt.show()\n"
   ]
  }
 ],
 "metadata": {
  "kernelspec": {
   "display_name": "Python 3 (ipykernel)",
   "language": "python",
   "name": "python3"
  },
  "language_info": {
   "codemirror_mode": {
    "name": "ipython",
    "version": 3
   },
   "file_extension": ".py",
   "mimetype": "text/x-python",
   "name": "python",
   "nbconvert_exporter": "python",
   "pygments_lexer": "ipython3",
   "version": "3.7.13"
  },
  "vscode": {
   "interpreter": {
    "hash": "8acf75c32eba628bd2792120ddbcc9df4882dfaa2de58c8d8d2cae8364422a99"
   }
  }
 },
 "nbformat": 4,
 "nbformat_minor": 5
}
