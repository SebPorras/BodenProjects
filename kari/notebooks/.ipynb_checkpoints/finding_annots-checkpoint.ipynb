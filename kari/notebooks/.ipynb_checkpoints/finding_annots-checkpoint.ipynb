{
 "cells": [
  {
   "cell_type": "code",
   "execution_count": 1,
   "id": "8319c316",
   "metadata": {},
   "outputs": [],
   "source": [
    "import pandas as pd\n",
    "from sequence import *\n",
    "import regex as re\n",
    "import numpy as np\n",
    "import pickle\n",
    "from sys import os\n",
    "\n",
    "pd.options.display.max_seq_items = 2000\n"
   ]
  },
  {
   "cell_type": "markdown",
   "id": "4acd2907",
   "metadata": {},
   "source": [
    "# Load in data sets "
   ]
  },
  {
   "cell_type": "code",
   "execution_count": 17,
   "id": "08d3e64e",
   "metadata": {},
   "outputs": [
    {
     "name": "stderr",
     "output_type": "stream",
     "text": [
      "/home/seb-porras/miniconda3/envs/scie3100/lib/python3.7/site-packages/IPython/core/interactiveshell.py:3457: DtypeWarning: Columns (4,5,14,15,28,30,36,42,53,61,69,72,74,83,85,89,96,97,111,116,117,120,121,150,152,158,170,172,178,206,208,217,219,220,222,241,242,247,258,274,284,287,289,290,291,293,295,296,297,299,301,303,304,306,308,310,312,314,316,317,319,320,322,324,326,328,329,333,335,337,341,345,347,349,350,352,354,355,356,357,359,361,363,365,367,369,371,372,373,374,375,410,411,412,413,414,419,420,421,422,428,429,431,432,437,438,440,441,442,443,444,445,446,449,450,451,452,453,454,455,456,457,458,459,460,461,462,463,464,465,466,467,468,469,470,471,472,473,474,476,478,483,484,485,486,487,488,489,490,491,492,493,494,495,496,497,515,516,517,518,519,520,521,522,523,524,525,526,527,528,529,530,531,532,533,534,535,536,537,538,539,540,541,542,543,544,545,546,547,548,549,550,551,552,553,554,555,556,557,558,559,560,561,562,563,564,565,566,567,568,569,570,571,572,573,574,575,576,577,578,579,580,581,582,583,584,585,586,587,588,589,590,591,592,593,594,595,596,597,598,599) have mixed types.Specify dtype option on import or set low_memory=False.\n",
      "  exec(code_obj, self.user_global_ns, self.user_ns)\n"
     ]
    }
   ],
   "source": [
    "os.getcwd()\n",
    "\n",
    "class_1 = readFastaFile('../../datasets/kari_ec_1_1_1_86_ec_1_1_1_382_ec_1_1_1_383_unreviewed/subsets/classI_kari/kari_ec_1_1_1_86_ec_1_1_1_382_ec_1_1_1_383_unreviewed_classI_kari.fasta')\n",
    "\n",
    "class_2 = readFastaFile('../../datasets/kari_ec_1_1_1_86_ec_1_1_1_382_ec_1_1_1_383_unreviewed/subsets/classII_kari/kari_ec_1_1_1_86_ec_1_1_1_382_ec_1_1_1_383_unreviewed_classII_kari.fasta')\n",
    "\n",
    "annots = pd.read_csv('../../datasets/kari_ec_1_1_1_86_ec_1_1_1_382_ec_1_1_1_383_unreviewed/csv/custom/kari_ec_1_1_1_86_ec_1_1_1_382_ec_1_1_1_383_unreviewed_annotated.csv')"
   ]
  },
  {
   "cell_type": "markdown",
   "id": "a61f85e6",
   "metadata": {},
   "source": [
    "# Important data columns"
   ]
  },
  {
   "cell_type": "code",
   "execution_count": 18,
   "id": "53821038",
   "metadata": {
    "scrolled": false
   },
   "outputs": [
    {
     "data": {
      "text/html": [
       "<div>\n",
       "<style scoped>\n",
       "    .dataframe tbody tr th:only-of-type {\n",
       "        vertical-align: middle;\n",
       "    }\n",
       "\n",
       "    .dataframe tbody tr th {\n",
       "        vertical-align: top;\n",
       "    }\n",
       "\n",
       "    .dataframe thead th {\n",
       "        text-align: right;\n",
       "    }\n",
       "</style>\n",
       "<table border=\"1\" class=\"dataframe\">\n",
       "  <thead>\n",
       "    <tr style=\"text-align: right;\">\n",
       "      <th></th>\n",
       "      <th>accession</th>\n",
       "      <th>ft_binding</th>\n",
       "      <th>ft_domain</th>\n",
       "    </tr>\n",
       "  </thead>\n",
       "  <tbody>\n",
       "    <tr>\n",
       "      <th>0</th>\n",
       "      <td>A0A0D6JQ61</td>\n",
       "      <td>BINDING 29..32; /ligand=\"NADP(+)\"; /ligand_id=...</td>\n",
       "      <td>DOMAIN 6..185; /note=\"KARI N-terminal Rossmann...</td>\n",
       "    </tr>\n",
       "    <tr>\n",
       "      <th>1</th>\n",
       "      <td>A0A0U3NUJ4</td>\n",
       "      <td>BINDING 25..28; /ligand=\"NADP(+)\"; /ligand_id=...</td>\n",
       "      <td>DOMAIN 2..181; /note=\"KARI N-terminal Rossmann...</td>\n",
       "    </tr>\n",
       "    <tr>\n",
       "      <th>2</th>\n",
       "      <td>A0A1H6G241</td>\n",
       "      <td>BINDING 30..33; /ligand=\"NADP(+)\"; /ligand_id=...</td>\n",
       "      <td>DOMAIN 7..186; /note=\"KARI N-terminal Rossmann...</td>\n",
       "    </tr>\n",
       "    <tr>\n",
       "      <th>3</th>\n",
       "      <td>A0A2D6ZW59</td>\n",
       "      <td>BINDING 24..27; /ligand=\"NADP(+)\"; /ligand_id=...</td>\n",
       "      <td>DOMAIN 1..185; /note=\"KARI N-terminal Rossmann...</td>\n",
       "    </tr>\n",
       "    <tr>\n",
       "      <th>4</th>\n",
       "      <td>A0A2E1QMP6</td>\n",
       "      <td>BINDING 24..27; /ligand=\"NADP(+)\"; /ligand_id=...</td>\n",
       "      <td>DOMAIN 1..181; /note=\"KARI N-terminal Rossmann...</td>\n",
       "    </tr>\n",
       "    <tr>\n",
       "      <th>...</th>\n",
       "      <td>...</td>\n",
       "      <td>...</td>\n",
       "      <td>...</td>\n",
       "    </tr>\n",
       "    <tr>\n",
       "      <th>32387</th>\n",
       "      <td>K2M0Z4</td>\n",
       "      <td>NaN</td>\n",
       "      <td>DOMAIN 3..135; /note=\"KARI N-terminal Rossmann...</td>\n",
       "    </tr>\n",
       "    <tr>\n",
       "      <th>32388</th>\n",
       "      <td>K8XLZ2</td>\n",
       "      <td>NaN</td>\n",
       "      <td>DOMAIN 10..112; /note=\"KARI N-terminal Rossman...</td>\n",
       "    </tr>\n",
       "    <tr>\n",
       "      <th>32389</th>\n",
       "      <td>K8XQS9</td>\n",
       "      <td>NaN</td>\n",
       "      <td>DOMAIN 3..105; /note=\"KARI N-terminal Rossmann...</td>\n",
       "    </tr>\n",
       "    <tr>\n",
       "      <th>32390</th>\n",
       "      <td>M0HAS1</td>\n",
       "      <td>NaN</td>\n",
       "      <td>DOMAIN 6..185; /note=\"KARI N-terminal Rossmann...</td>\n",
       "    </tr>\n",
       "    <tr>\n",
       "      <th>32391</th>\n",
       "      <td>Q0FJ14</td>\n",
       "      <td>NaN</td>\n",
       "      <td>NaN</td>\n",
       "    </tr>\n",
       "  </tbody>\n",
       "</table>\n",
       "<p>32392 rows × 3 columns</p>\n",
       "</div>"
      ],
      "text/plain": [
       "        accession                                         ft_binding  \\\n",
       "0      A0A0D6JQ61  BINDING 29..32; /ligand=\"NADP(+)\"; /ligand_id=...   \n",
       "1      A0A0U3NUJ4  BINDING 25..28; /ligand=\"NADP(+)\"; /ligand_id=...   \n",
       "2      A0A1H6G241  BINDING 30..33; /ligand=\"NADP(+)\"; /ligand_id=...   \n",
       "3      A0A2D6ZW59  BINDING 24..27; /ligand=\"NADP(+)\"; /ligand_id=...   \n",
       "4      A0A2E1QMP6  BINDING 24..27; /ligand=\"NADP(+)\"; /ligand_id=...   \n",
       "...           ...                                                ...   \n",
       "32387      K2M0Z4                                                NaN   \n",
       "32388      K8XLZ2                                                NaN   \n",
       "32389      K8XQS9                                                NaN   \n",
       "32390      M0HAS1                                                NaN   \n",
       "32391      Q0FJ14                                                NaN   \n",
       "\n",
       "                                               ft_domain  \n",
       "0      DOMAIN 6..185; /note=\"KARI N-terminal Rossmann...  \n",
       "1      DOMAIN 2..181; /note=\"KARI N-terminal Rossmann...  \n",
       "2      DOMAIN 7..186; /note=\"KARI N-terminal Rossmann...  \n",
       "3      DOMAIN 1..185; /note=\"KARI N-terminal Rossmann...  \n",
       "4      DOMAIN 1..181; /note=\"KARI N-terminal Rossmann...  \n",
       "...                                                  ...  \n",
       "32387  DOMAIN 3..135; /note=\"KARI N-terminal Rossmann...  \n",
       "32388  DOMAIN 10..112; /note=\"KARI N-terminal Rossman...  \n",
       "32389  DOMAIN 3..105; /note=\"KARI N-terminal Rossmann...  \n",
       "32390  DOMAIN 6..185; /note=\"KARI N-terminal Rossmann...  \n",
       "32391                                                NaN  \n",
       "\n",
       "[32392 rows x 3 columns]"
      ]
     },
     "execution_count": 18,
     "metadata": {},
     "output_type": "execute_result"
    }
   ],
   "source": [
    "annots.loc[:, annots.columns.isin(['accession','ft_binding', 'ft_domain'])]"
   ]
  },
  {
   "cell_type": "markdown",
   "id": "76cd3b57",
   "metadata": {},
   "source": [
    "# Testing regular expressions to extract info"
   ]
  },
  {
   "cell_type": "code",
   "execution_count": 19,
   "id": "5c3c5c85",
   "metadata": {},
   "outputs": [
    {
     "data": {
      "text/html": [
       "<div>\n",
       "<style scoped>\n",
       "    .dataframe tbody tr th:only-of-type {\n",
       "        vertical-align: middle;\n",
       "    }\n",
       "\n",
       "    .dataframe tbody tr th {\n",
       "        vertical-align: top;\n",
       "    }\n",
       "\n",
       "    .dataframe thead th {\n",
       "        text-align: right;\n",
       "    }\n",
       "</style>\n",
       "<table border=\"1\" class=\"dataframe\">\n",
       "  <thead>\n",
       "    <tr style=\"text-align: right;\">\n",
       "      <th></th>\n",
       "      <th>accession</th>\n",
       "      <th>id</th>\n",
       "      <th>gene_names</th>\n",
       "      <th>gene_primary</th>\n",
       "      <th>gene_synonym</th>\n",
       "      <th>gene_oln</th>\n",
       "      <th>gene_orf</th>\n",
       "      <th>organism_name</th>\n",
       "      <th>organism_id</th>\n",
       "      <th>protein_name</th>\n",
       "      <th>...</th>\n",
       "      <th>BRENDA_TN_Hydroxypyruvate_UNITS</th>\n",
       "      <th>BRENDA_TN_Hydroxypyruvate_REFS</th>\n",
       "      <th>BRENDA_TN_Hydroxypyruvate_COMMENT</th>\n",
       "      <th>BRENDA_SY_COMMENT</th>\n",
       "      <th>Non_AA_Character</th>\n",
       "      <th>AA_Character</th>\n",
       "      <th>UniProt_DB</th>\n",
       "      <th>Length_2</th>\n",
       "      <th>Cross_reference_InterPro_2</th>\n",
       "      <th>KARI_Class</th>\n",
       "    </tr>\n",
       "  </thead>\n",
       "  <tbody>\n",
       "    <tr>\n",
       "      <th>0</th>\n",
       "      <td>A0A0D6JQ61</td>\n",
       "      <td>A0A0D6JQ61_9EURY</td>\n",
       "      <td>ilvC BN996_01465</td>\n",
       "      <td>ilvC</td>\n",
       "      <td>NaN</td>\n",
       "      <td>NaN</td>\n",
       "      <td>BN996_01465</td>\n",
       "      <td>Haloferax massiliensis</td>\n",
       "      <td>1476858</td>\n",
       "      <td>Ketol-acid reductoisomerase (NADP(+)) (KARI) (...</td>\n",
       "      <td>...</td>\n",
       "      <td>NaN</td>\n",
       "      <td>NaN</td>\n",
       "      <td>NaN</td>\n",
       "      <td>NaN</td>\n",
       "      <td>False</td>\n",
       "      <td>True</td>\n",
       "      <td>NaN</td>\n",
       "      <td>348</td>\n",
       "      <td>IPR008927;IPR013023;IPR000506;IPR013116;IPR014...</td>\n",
       "      <td>Class_1</td>\n",
       "    </tr>\n",
       "  </tbody>\n",
       "</table>\n",
       "<p>1 rows × 606 columns</p>\n",
       "</div>"
      ],
      "text/plain": [
       "    accession                id        gene_names gene_primary gene_synonym  \\\n",
       "0  A0A0D6JQ61  A0A0D6JQ61_9EURY  ilvC BN996_01465         ilvC          NaN   \n",
       "\n",
       "  gene_oln     gene_orf           organism_name  organism_id  \\\n",
       "0      NaN  BN996_01465  Haloferax massiliensis      1476858   \n",
       "\n",
       "                                        protein_name  ...  \\\n",
       "0  Ketol-acid reductoisomerase (NADP(+)) (KARI) (...  ...   \n",
       "\n",
       "  BRENDA_TN_Hydroxypyruvate_UNITS BRENDA_TN_Hydroxypyruvate_REFS  \\\n",
       "0                             NaN                            NaN   \n",
       "\n",
       "  BRENDA_TN_Hydroxypyruvate_COMMENT  BRENDA_SY_COMMENT Non_AA_Character  \\\n",
       "0                               NaN                NaN            False   \n",
       "\n",
       "  AA_Character UniProt_DB  Length_2  \\\n",
       "0         True        NaN       348   \n",
       "\n",
       "                          Cross_reference_InterPro_2  KARI_Class  \n",
       "0  IPR008927;IPR013023;IPR000506;IPR013116;IPR014...     Class_1  \n",
       "\n",
       "[1 rows x 606 columns]"
      ]
     },
     "execution_count": 19,
     "metadata": {},
     "output_type": "execute_result"
    }
   ],
   "source": [
    "domain = 'DOMAIN (.*?); */note=\\\"(.*?)\";'\n",
    "metal = 'BINDING (.*?); /ligand=\\\"(.*?)\";'\n",
    "\n",
    "seq = annots.iloc[:1, :]\n",
    "seq"
   ]
  },
  {
   "cell_type": "code",
   "execution_count": 20,
   "id": "9612b392",
   "metadata": {
    "scrolled": true
   },
   "outputs": [
    {
     "name": "stdout",
     "output_type": "stream",
     "text": [
      "DOMAIN 6..185; /note=\"KARI N-terminal Rossmann\"; /evidence=\"ECO:0000259|PROSITE:PS51850\"; DOMAIN 186..331; /note=\"KARI C-terminal knotted\"; /evidence=\"ECO:0000259|PROSITE:PS51851\"\n"
     ]
    }
   ],
   "source": [
    "for x in seq['ft_domain']:\n",
    "    print(x)"
   ]
  },
  {
   "cell_type": "code",
   "execution_count": 21,
   "id": "6493af8b",
   "metadata": {
    "scrolled": true
   },
   "outputs": [
    {
     "name": "stdout",
     "output_type": "stream",
     "text": [
      "BINDING 29..32; /ligand=\"NADP(+)\"; /ligand_id=\"ChEBI:CHEBI:58349\"; /evidence=\"ECO:0000256|HAMAP-Rule:MF_00435\"; BINDING 52; /ligand=\"NADP(+)\"; /ligand_id=\"ChEBI:CHEBI:58349\"; /evidence=\"ECO:0000256|HAMAP-Rule:MF_00435\"; BINDING 55; /ligand=\"NADP(+)\"; /ligand_id=\"ChEBI:CHEBI:58349\"; /evidence=\"ECO:0000256|HAMAP-Rule:MF_00435\"; BINDING 57; /ligand=\"NADP(+)\"; /ligand_id=\"ChEBI:CHEBI:58349\"; /evidence=\"ECO:0000256|HAMAP-Rule:MF_00435\"; BINDING 137; /ligand=\"NADP(+)\"; /ligand_id=\"ChEBI:CHEBI:58349\"; /evidence=\"ECO:0000256|HAMAP-Rule:MF_00435\"; BINDING 194; /ligand=\"Mg(2+)\"; /ligand_id=\"ChEBI:CHEBI:18420\"; /ligand_label=\"2\"; /evidence=\"ECO:0000256|HAMAP-Rule:MF_00435, ECO:0000256|PROSITE-ProRule:PRU01198\"; BINDING 194; /ligand=\"Mg(2+)\"; /ligand_id=\"ChEBI:CHEBI:18420\"; /ligand_label=\"1\"; /evidence=\"ECO:0000256|HAMAP-Rule:MF_00435, ECO:0000256|PROSITE-ProRule:PRU01198\"; BINDING 198; /ligand=\"Mg(2+)\"; /ligand_id=\"ChEBI:CHEBI:18420\"; /ligand_label=\"1\"; /evidence=\"ECO:0000256|HAMAP-Rule:MF_00435, ECO:0000256|PROSITE-ProRule:PRU01198\"; BINDING 230; /ligand=\"Mg(2+)\"; /ligand_id=\"ChEBI:CHEBI:18420\"; /ligand_label=\"2\"; /evidence=\"ECO:0000256|HAMAP-Rule:MF_00435, ECO:0000256|PROSITE-ProRule:PRU01198\"; BINDING 234; /ligand=\"Mg(2+)\"; /ligand_id=\"ChEBI:CHEBI:18420\"; /ligand_label=\"2\"; /evidence=\"ECO:0000256|HAMAP-Rule:MF_00435, ECO:0000256|PROSITE-ProRule:PRU01198\"; BINDING 255; /ligand=\"substrate\"; /evidence=\"ECO:0000256|HAMAP-Rule:MF_00435, ECO:0000256|PROSITE-ProRule:PRU01198\"\n"
     ]
    }
   ],
   "source": [
    "for x in seq['ft_binding']:\n",
    "    print(x)"
   ]
  },
  {
   "cell_type": "code",
   "execution_count": 22,
   "id": "b2cd9e6b",
   "metadata": {},
   "outputs": [],
   "source": [
    "exp = re.findall(domain, str(seq['ft_domain'].values))\n",
    "met = re.findall(metal, str(seq['ft_binding'].values))"
   ]
  },
  {
   "cell_type": "code",
   "execution_count": 23,
   "id": "98f181bc",
   "metadata": {},
   "outputs": [
    {
     "data": {
      "text/plain": [
       "[('29..32', 'NADP(+)'),\n",
       " ('52', 'NADP(+)'),\n",
       " ('55', 'NADP(+)'),\n",
       " ('57', 'NADP(+)'),\n",
       " ('137', 'NADP(+)'),\n",
       " ('194', 'Mg(2+)'),\n",
       " ('194', 'Mg(2+)'),\n",
       " ('198', 'Mg(2+)'),\n",
       " ('230', 'Mg(2+)'),\n",
       " ('234', 'Mg(2+)'),\n",
       " ('255', 'substrate')]"
      ]
     },
     "execution_count": 23,
     "metadata": {},
     "output_type": "execute_result"
    }
   ],
   "source": [
    "met"
   ]
  },
  {
   "cell_type": "code",
   "execution_count": 24,
   "id": "d4de6de9",
   "metadata": {},
   "outputs": [
    {
     "data": {
      "text/plain": [
       "[('6..185', 'KARI N-terminal Rossmann'),\n",
       " ('186..331', 'KARI C-terminal knotted')]"
      ]
     },
     "execution_count": 24,
     "metadata": {},
     "output_type": "execute_result"
    }
   ],
   "source": [
    "exp"
   ]
  },
  {
   "cell_type": "markdown",
   "id": "18fd0cf8",
   "metadata": {},
   "source": [
    "# Identifying where cofactor residues relative to domains"
   ]
  },
  {
   "cell_type": "code",
   "execution_count": 25,
   "id": "d1aa7c8f",
   "metadata": {},
   "outputs": [],
   "source": [
    "def sort_features(domains: list) -> dict:\n",
    "    \n",
    "    RANGE = 0\n",
    "    ID = 1\n",
    "    domain_info = {}\n",
    "    \n",
    "    for domain in domains: \n",
    "        \n",
    "        if domain[ID] not in domain_info.keys():\n",
    "            \n",
    "            domain_info[domain[ID]] = [domain[RANGE]]\n",
    "        else:\n",
    "           \n",
    "            if domain[RANGE] not in domain_info[domain[ID]]:\n",
    "                \n",
    "                domain_info[domain[ID]].append(domain[RANGE])\n",
    "    \n",
    "    return domain_info"
   ]
  },
  {
   "cell_type": "code",
   "execution_count": 26,
   "id": "65c184f2",
   "metadata": {
    "scrolled": true
   },
   "outputs": [],
   "source": [
    "\n",
    "def summarise_annots(sequences: list):\n",
    "    \"\"\"\n",
    "    Returns a dictionary that has the accession number as key.\n",
    "    The value is a list, the first element contains a dict with\n",
    "    all the domains(C or N). Second element contains all cofactors. \n",
    "    \"\"\"\n",
    "    annotations = {}\n",
    "\n",
    "    for seq in sequences:    \n",
    "\n",
    "        entry = annots.loc[annots.accession == seq.name]\n",
    "\n",
    "        doms = re.findall(domain, str(entry['ft_domain'].values))\n",
    "        met = re.findall(metal, str(entry['ft_binding'].values))\n",
    "        \n",
    "        sorted_doms = sort_features(doms)\n",
    "        sorted_met = sort_features(met)\n",
    "        \n",
    "        info = [sort_features(doms), sort_features(met)]\n",
    "\n",
    "        annotations[seq.name] = info\n",
    "    \n",
    "    \n",
    "    return annotations\n"
   ]
  },
  {
   "cell_type": "code",
   "execution_count": 27,
   "id": "d5b419cf",
   "metadata": {
    "scrolled": true
   },
   "outputs": [],
   "source": [
    "class_1_dict = summarise_annots(class_1)\n",
    "class_2_dict = summarise_annots(class_2)"
   ]
  },
  {
   "cell_type": "code",
   "execution_count": 28,
   "id": "3c692840",
   "metadata": {},
   "outputs": [],
   "source": [
    "outfile_1 = open('class_1_unreviewed_annots', 'wb')\n",
    "pickle.dump(class_1_dict, outfile_1)\n",
    "outfile_1.close()\n",
    "\n",
    "outfile_2 = open('class_2_unreviewed_annots', 'wb')\n",
    "pickle.dump(class_2_dict, outfile_2)\n",
    "outfile_2.close()"
   ]
  }
 ],
 "metadata": {
  "kernelspec": {
   "display_name": "Python 3.7.13 ('scie3100')",
   "language": "python",
   "name": "python3"
  },
  "language_info": {
   "codemirror_mode": {
    "name": "ipython",
    "version": 3
   },
   "file_extension": ".py",
   "mimetype": "text/x-python",
   "name": "python",
   "nbconvert_exporter": "python",
   "pygments_lexer": "ipython3",
   "version": "3.7.13"
  },
  "vscode": {
   "interpreter": {
    "hash": "8acf75c32eba628bd2792120ddbcc9df4882dfaa2de58c8d8d2cae8364422a99"
   }
  }
 },
 "nbformat": 4,
 "nbformat_minor": 5
}
